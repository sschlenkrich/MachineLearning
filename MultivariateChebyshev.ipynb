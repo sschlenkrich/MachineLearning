{
 "cells": [
  {
   "cell_type": "markdown",
   "metadata": {},
   "source": [
    "# Multivariate Chebyshev\n",
    "\n",
    "In this notebook we analyse multivariate Chebyshev interpolation. For reference, see\n",
    "[L. N. Trefethen *Approximation Theory and Approximation Practice* (2013)](https://people.maths.ox.ac.uk/trefethen/ATAP/ATAPfirst6chapters.pdf)\n",
    "and\n",
    "[M.Gaß, K. Glau, M. Mahlstedt, M. Mair, *Chebyshev Interpolation for Parametric Option Pricing* (2016)](https://arxiv.org/pdf/1505.04648.pdf)."
   ]
  },
  {
   "cell_type": "code",
   "execution_count": null,
   "metadata": {},
   "outputs": [],
   "source": [
    "import numpy as np\n",
    "from numpy.polynomial import Chebyshev\n",
    "import pandas as pd\n",
    "from scipy.stats import norm\n",
    "\n",
    "import matplotlib.pyplot as plt"
   ]
  },
  {
   "cell_type": "markdown",
   "metadata": {},
   "source": [
    "## One-dimensional Chebyshev Interpolation\n",
    "\n",
    "We consider a function $f:[-1, 1]\\rightarrow \\mathbb{R}$. The function $f$ is approximated by a sum of polynomials of the form\n",
    "$$\n",
    "  f(x) \\approx \\sum_{k=0}^n c_k T_k(x).\n",
    "$$\n",
    "Here,\n",
    "  - $n$ is the order of polynomial approximation,\n",
    "  - $T_k$ is the $k$-th element of the Chebyshev series (basis function, polynomial of degree $k$), and\n",
    "  - $c_k$ are the coefficients for approximation (obtained by interpolation through Chebyshev nodes)."
   ]
  },
  {
   "cell_type": "markdown",
   "metadata": {},
   "source": [
    "### Chebychev via First Kind\n",
    "\n",
    "We illustrate the first four Chebyshev polynomials using numpy."
   ]
  },
  {
   "cell_type": "code",
   "execution_count": null,
   "metadata": {},
   "outputs": [],
   "source": [
    "T0 = Chebyshev([1])\n",
    "T1 = Chebyshev([0, 1])\n",
    "T2 = Chebyshev([0, 0, 1])\n",
    "T3 = Chebyshev([0, 0, 0, 1])\n",
    "\n",
    "x = np.linspace(-1.0, 1.0, 101)\n",
    "fig, axs = plt.subplots(2,2)\n",
    "fig.suptitle('Chebyshev polynomials')\n",
    "axs[0,0].plot(x, T0(x))\n",
    "axs[0,1].plot(x, T1(x))\n",
    "axs[1,0].plot(x, T2(x))\n",
    "axs[1,1].plot(x, T3(x))\n",
    "plt.show()"
   ]
  },
  {
   "cell_type": "markdown",
   "metadata": {},
   "source": [
    "For a given function $f$ we can also calculate the coefficients $c_k$ ($k=0,\\ldots, n$).\n",
    "\n",
    "We illustrate coefficient calculation by approximating $f(x)=e^x$."
   ]
  },
  {
   "cell_type": "code",
   "execution_count": null,
   "metadata": {},
   "outputs": [],
   "source": [
    "poly = Chebyshev.interpolate(np.exp, 3)\n",
    "poly"
   ]
  },
  {
   "cell_type": "markdown",
   "metadata": {},
   "source": [
    "We can extract the coefficients from our interpolation polynomial."
   ]
  },
  {
   "cell_type": "code",
   "execution_count": null,
   "metadata": {},
   "outputs": [],
   "source": [
    "poly.coef"
   ]
  },
  {
   "cell_type": "markdown",
   "metadata": {},
   "source": [
    "And we can also manually construct an approximating Chebyshev polynomial. "
   ]
  },
  {
   "cell_type": "code",
   "execution_count": null,
   "metadata": {},
   "outputs": [],
   "source": [
    "poly2 = Chebyshev(poly.coef)\n",
    "poly2"
   ]
  },
  {
   "cell_type": "markdown",
   "metadata": {},
   "source": [
    "Both polynomials are equivalent. And the difference is *zero*."
   ]
  },
  {
   "cell_type": "code",
   "execution_count": null,
   "metadata": {},
   "outputs": [],
   "source": [
    "poly - poly2"
   ]
  },
  {
   "cell_type": "markdown",
   "metadata": {},
   "source": [
    "Finally, we check the approximation of the test function."
   ]
  },
  {
   "cell_type": "code",
   "execution_count": null,
   "metadata": {},
   "outputs": [],
   "source": [
    "fig, axs = plt.subplots(1,2)\n",
    "axs[0].plot(x, poly(x))\n",
    "axs[0].plot(x, np.exp(x))\n",
    "axs[1].plot(x, np.exp(x)-poly(x))\n",
    "plt.tight_layout()\n",
    "plt.show()"
   ]
  },
  {
   "cell_type": "markdown",
   "metadata": {},
   "source": [
    "Numpy uses Chebychev nodes of the fist kind."
   ]
  },
  {
   "cell_type": "code",
   "execution_count": null,
   "metadata": {},
   "outputs": [],
   "source": [
    "cheb_nodes_1st = np.polynomial.chebyshev.chebpts1(3+1)\n",
    "print(cheb_nodes_1st)\n",
    "print(np.exp(cheb_nodes_1st)-poly(cheb_nodes_1st))"
   ]
  },
  {
   "cell_type": "markdown",
   "metadata": {},
   "source": [
    "### Chebychev via Second Kind\n",
    "\n",
    "Following Glau et.al. we also check interpolation using Chebychev nodes of the second kind."
   ]
  },
  {
   "cell_type": "code",
   "execution_count": null,
   "metadata": {},
   "outputs": [],
   "source": [
    "n = 3  # degree of polynomial/interpolation\n",
    "\n",
    "cheb_nodes_2nd = np.cos(np.pi * np.linspace(0, 1, n+1))\n",
    "print(cheb_nodes_2nd)\n",
    "print(np.flip(np.polynomial.chebyshev.chebpts2(n+1)))"
   ]
  },
  {
   "cell_type": "markdown",
   "metadata": {},
   "source": [
    "We need to evaluate the target function at the nodes."
   ]
  },
  {
   "cell_type": "code",
   "execution_count": null,
   "metadata": {},
   "outputs": [],
   "source": [
    "f_nodes = np.exp(cheb_nodes_2nd)\n",
    "f_nodes"
   ]
  },
  {
   "cell_type": "markdown",
   "metadata": {},
   "source": [
    "Now, we can calculate the coefficients of the Chebychev polynomial."
   ]
  },
  {
   "cell_type": "code",
   "execution_count": null,
   "metadata": {},
   "outputs": [],
   "source": [
    "f_nodes_adj = f_nodes.copy()\n",
    "f_nodes_adj[0] *= 0.5\n",
    "f_nodes_adj[-1] *= 0.5\n",
    "#\n",
    "idxs = np.arange(n+1)\n",
    "fac = 2**((0 < idxs) & (idxs < n))\n",
    "cheb_coeff = np.dot(np.cos((np.pi * idxs.reshape(-1,1)) * np.linspace(0, 1, n+1)), f_nodes_adj / n) * fac\n",
    "print(cheb_coeff)\n",
    "poly_3 = Chebyshev(cheb_coeff)\n",
    "poly_3"
   ]
  },
  {
   "cell_type": "markdown",
   "metadata": {},
   "source": [
    "It turns out that this polynomial slightly differs from numpy's coefficients for interpolation.\n",
    "\n",
    "Again, we check the interpolation and difference to the target function."
   ]
  },
  {
   "cell_type": "code",
   "execution_count": null,
   "metadata": {},
   "outputs": [],
   "source": [
    "fig, axs = plt.subplots(1,2)\n",
    "axs[0].plot(x, poly_3(x))\n",
    "axs[0].plot(x, np.exp(x))\n",
    "axs[1].plot(x, np.exp(x)-poly_3(x))\n",
    "plt.tight_layout()\n",
    "plt.show()"
   ]
  },
  {
   "cell_type": "code",
   "execution_count": null,
   "metadata": {},
   "outputs": [],
   "source": [
    "print(np.exp(cheb_nodes_2nd)-poly_3(cheb_nodes_2nd))"
   ]
  },
  {
   "cell_type": "markdown",
   "metadata": {},
   "source": [
    "As expected we match the target function at the Chebychev nodes of second kind. However, the maximum approximation error slightly increased compared to numpy's implementation. "
   ]
  },
  {
   "cell_type": "markdown",
   "metadata": {},
   "source": [
    "## Chebychev Tensors\n",
    "\n",
    "Now, we analyse multivariate interpolation. The implementation also follows Glau et.al."
   ]
  },
  {
   "cell_type": "code",
   "execution_count": null,
   "metadata": {},
   "outputs": [],
   "source": [
    "def cartesian_product(*arrays):\n",
    "    \"\"\"\n",
    "    Calculate the cartesian product of a list of input arrays.\n",
    "\n",
    "    See https://stackoverflow.com/questions/11144513/cartesian-product-of-x-and-y-array-points-into-single-array-of-2d-points\n",
    "    \"\"\"\n",
    "    la = len(arrays)\n",
    "    dtype = np.result_type(*arrays)\n",
    "    arr = np.empty([len(a) for a in arrays] + [la], dtype=dtype)\n",
    "    for i, a in enumerate(np.ix_(*arrays)):\n",
    "        arr[...,i] = a\n",
    "    return arr.reshape(-1, la)\n",
    "\n",
    "class ChebychevTensor:\n",
    "    \"\"\"\n",
    "    A multi-variate interpolation using Chebychev tensors.\n",
    "    \"\"\"\n",
    "\n",
    "    def __init__(self, func, degrees, a = -1.0, b = 1.0):\n",
    "        \"\"\"\n",
    "        Initialise a d-dimensional ChebychevTensor.\n",
    "\n",
    "        Inputs:\n",
    "\n",
    "        func    ... A function taking an array of length d as input.\n",
    "        degrees ... A list of length d containing integers. Elements\n",
    "                    represent degree of polynomial for corresponding\n",
    "                    dimension i (i=1,..,d).\n",
    "        a, b    ... Lower/upper boundary for domain; optional,\n",
    "                    scalar or d-dimensional array.\n",
    "        \"\"\"\n",
    "        self.func = func\n",
    "        self.degrees = degrees\n",
    "        self.a = a\n",
    "        self.b = b\n",
    "        #\n",
    "        idx_list = [ np.arange(n+1) for n in self.degrees]\n",
    "        points = self.chebychev_points(self.degrees)\n",
    "        #\n",
    "        self.multi_idx = cartesian_product(*idx_list)\n",
    "        self.multi_points = cartesian_product(*points)\n",
    "        # we need to scale the points from [-1,1] to [a,b]\n",
    "        if not isinstance(a, float):\n",
    "            self.a = self.a.reshape((1,-1))  # allow broadcast for calibration\n",
    "        if not isinstance(b, float):\n",
    "            self.b = self.b.reshape((1,-1))  # allow broadcast for calibration\n",
    "        self.multi_points = self.a + 0.5 * (self.multi_points + 1) * (self.b - self.a)\n",
    "        if not isinstance(a, float):\n",
    "            self.a.shape = (-1,)  # allow broadcast for valuation\n",
    "        if not isinstance(b, float):\n",
    "            self.b.shape = (-1,)  # allow broadcast for valuation\n",
    "        #\n",
    "        self.values = np.apply_along_axis(self.func, 1, self.multi_points)\n",
    "        #\n",
    "        self.inner_node_factor = np.sum(\n",
    "            (0<self.multi_idx) & \n",
    "            (self.multi_idx<np.array(self.degrees)), \n",
    "            axis = 1\n",
    "        )               \n",
    "        self.values_adj = self.values * 0.5**(len(self.degrees) - self.inner_node_factor)\n",
    "        #\n",
    "        self.multi_coeff = np.zeros(self.multi_idx.shape[0])\n",
    "        for idx, j in enumerate(self.multi_idx):\n",
    "            # calculate c_j for multi-index j, see eq. (2.9)\n",
    "            cos_list = [\n",
    "                np.array([ np.cos(j[i] * np.pi * k / self.degrees[i]) for k in range(self.degrees[i]+1) ])\n",
    "                for i in range(len(self.degrees))\n",
    "            ]\n",
    "            cos_full = cartesian_product(*cos_list)\n",
    "            self.multi_coeff[idx] = np.dot(self.values_adj, np.prod(cos_full, axis=1))\n",
    "        self.multi_coeff *= 2**self.inner_node_factor / np.prod(self.degrees)\n",
    "        #\n",
    "        self.T = [ np.polynomial.Chebyshev.basis(j) for j in range(np.max(self.degrees) + 1) ]\n",
    "\n",
    "    @staticmethod\n",
    "    def chebychev_points(degrees):\n",
    "        \"\"\"\n",
    "        Calculate the Chebychev points used for interpolation.\n",
    "\n",
    "        These points represent the extrema (!) of Chebychev\n",
    "        polynomials of first kind.\n",
    "        \"\"\"\n",
    "        return [ np.cos(np.pi * np.linspace(0, 1, n+1)) for n in degrees]\n",
    "\n",
    "    def chebychev_basis(self, x):\n",
    "        \"\"\"\n",
    "        Evaluate all basis function tensors at x.\n",
    "\n",
    "        This assumes x in [-1,1].\n",
    "        \"\"\"\n",
    "        assert x.shape[0] == len(self.degrees)\n",
    "        T_list = [\n",
    "            np.array([ self.T[j](x[i]) for j in range(self.degrees[i]+1) ])\n",
    "            for i in range(len(self.degrees))\n",
    "        ]\n",
    "        T_full = cartesian_product(*T_list)\n",
    "        return np.prod(T_full, axis=1)\n",
    "\n",
    "    def __call__(self, y):\n",
    "        \"\"\"\n",
    "        Evaluate interpolation for d-dimensional input y.\n",
    "        \"\"\"\n",
    "        x = 2 * (y-self.a) / (self.b-self.a) - 1\n",
    "        return np.dot(self.multi_coeff, self.chebychev_basis(x))"
   ]
  },
  {
   "cell_type": "markdown",
   "metadata": {},
   "source": [
    "We test the multi-variate interpolation using (normalised) Black formula."
   ]
  },
  {
   "cell_type": "code",
   "execution_count": null,
   "metadata": {},
   "outputs": [],
   "source": [
    "def BlackOverK(x):\n",
    "    moneyness, stdDev, callOrPut = x\n",
    "    d1 = np.log(moneyness) / stdDev + stdDev / 2.0\n",
    "    d2 = d1 - stdDev\n",
    "    return callOrPut * (moneyness*norm.cdf(callOrPut*d1)-norm.cdf(callOrPut*d2))"
   ]
  },
  {
   "cell_type": "code",
   "execution_count": null,
   "metadata": {},
   "outputs": [],
   "source": [
    "a = np.array([ 0.5, 0.01, -1.0 ])\n",
    "b = np.array([ 2.0, 0.50, +1.0 ])\n",
    "degrees = [ 10, 10, 10 ]\n",
    "\n",
    "T = ChebychevTensor(BlackOverK, degrees, a, b)"
   ]
  },
  {
   "cell_type": "code",
   "execution_count": null,
   "metadata": {},
   "outputs": [],
   "source": [
    "callOrPut = -1.0\n",
    "moneyness = np.linspace(0.5, 2.0, 101)\n",
    "\n",
    "fig, axs = plt.subplots(2,2, sharex=True, sharey=True)\n",
    "\n",
    "for stDev, ax in zip([ 0.01, 0.10, 0.25, 0.50 ], axs.reshape(-1)):\n",
    "    v = lambda x : np.array([x, stDev, callOrPut])\n",
    "    ax.plot(moneyness, [ BlackOverK(v(x)) for x in moneyness], 'r', label='Black')\n",
    "    ax.plot(moneyness, [ T(v(x)) for x in moneyness], 'b', label='Chebychev')\n",
    "    ax.set_title('stDev = %.2f' % stDev)\n",
    "axs.reshape(-1)[0].legend()\n",
    "axs[1,0].set_xlabel('moneyness')\n",
    "axs[1,1].set_xlabel('moneyness')\n",
    "axs[0,0].set_ylabel('forward price')\n",
    "axs[1,0].set_ylabel('forward price')\n",
    "fig.set_figheight(8)\n",
    "fig.set_figwidth(12)\n",
    "fig.suptitle('Call/Put = %.1f' % callOrPut)\n",
    "plt.tight_layout()\n",
    "plt.show()"
   ]
  },
  {
   "cell_type": "markdown",
   "metadata": {},
   "source": [
    "For a more systematic view we sample random points from the interpolation domain and check approximation accuracy for that sample."
   ]
  },
  {
   "cell_type": "code",
   "execution_count": null,
   "metadata": {},
   "outputs": [],
   "source": [
    "np.random.seed(42)\n",
    "base2 = 13\n",
    "X = a.reshape(1,-1) + np.random.uniform(size=(2**base2, 3)) * (b-a).reshape(1,-1)"
   ]
  },
  {
   "cell_type": "markdown",
   "metadata": {},
   "source": [
    "Reference values are calculated using Black formula."
   ]
  },
  {
   "cell_type": "code",
   "execution_count": null,
   "metadata": {},
   "outputs": [],
   "source": [
    "V_ref = np.apply_along_axis(BlackOverK, 1, X)"
   ]
  },
  {
   "cell_type": "markdown",
   "metadata": {},
   "source": [
    "Model values are calculated using Chebychev tensors."
   ]
  },
  {
   "cell_type": "code",
   "execution_count": null,
   "metadata": {},
   "outputs": [],
   "source": [
    "V_mdl = np.apply_along_axis(T, 1, X)"
   ]
  },
  {
   "cell_type": "markdown",
   "metadata": {},
   "source": [
    "We compare standard statistics of the difference between (proxy) model and target function. "
   ]
  },
  {
   "cell_type": "code",
   "execution_count": null,
   "metadata": {},
   "outputs": [],
   "source": [
    "pd.Series((V_mdl - V_ref), name='Model - Target').describe()"
   ]
  }
 ],
 "metadata": {
  "interpreter": {
   "hash": "b526d317d6a568dccf9e78cdadde5e5aee2902d738aea083f029c49da3e892cd"
  },
  "kernelspec": {
   "display_name": "Python 3.9.7 ('Python39')",
   "language": "python",
   "name": "python3"
  },
  "language_info": {
   "codemirror_mode": {
    "name": "ipython",
    "version": 3
   },
   "file_extension": ".py",
   "mimetype": "text/x-python",
   "name": "python",
   "nbconvert_exporter": "python",
   "pygments_lexer": "ipython3",
   "version": "3.9.7"
  },
  "orig_nbformat": 4
 },
 "nbformat": 4,
 "nbformat_minor": 2
}
